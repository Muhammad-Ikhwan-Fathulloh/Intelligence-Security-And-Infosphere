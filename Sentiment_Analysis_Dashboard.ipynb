{
  "cells": [
    {
      "cell_type": "code",
      "execution_count": 1,
      "metadata": {
        "colab": {
          "base_uri": "https://localhost:8080/"
        },
        "id": "dl7V0TiaWETn",
        "outputId": "8e90b2fd-1f02-4d8d-a75b-78c3000984be"
      },
      "outputs": [
        {
          "name": "stdout",
          "output_type": "stream",
          "text": [
            "\u001b[2K   \u001b[90m━━━━━━━━━━━━━━━━━━━━━━━━━━━━━━━━━━━━━━━━\u001b[0m \u001b[32m7.9/7.9 MB\u001b[0m \u001b[31m86.2 MB/s\u001b[0m eta \u001b[36m0:00:00\u001b[0m\n",
            "\u001b[2K   \u001b[90m━━━━━━━━━━━━━━━━━━━━━━━━━━━━━━━━━━━━━━━━\u001b[0m \u001b[32m126.0/126.0 kB\u001b[0m \u001b[31m13.8 MB/s\u001b[0m eta \u001b[36m0:00:00\u001b[0m\n",
            "\u001b[?25h"
          ]
        }
      ],
      "source": [
        "# Sentiment Analysis Dashboard with Kaggle Dataset (Google Colab Ready with Google Drive and Pyngrok)\n",
        "\n",
        "# 1. Install Requirements\n",
        "!pip install pandas textblob plotly dash pyngrok vaderSentiment --quiet"
      ]
    },
    {
      "cell_type": "code",
      "execution_count": 2,
      "metadata": {
        "id": "nUIPfNQLWGNE"
      },
      "outputs": [],
      "source": [
        "# 2. Import Libraries\n",
        "import pandas as pd\n",
        "from textblob import TextBlob\n",
        "from vaderSentiment.vaderSentiment import SentimentIntensityAnalyzer\n",
        "import plotly.express as px\n",
        "from dash import Dash, dcc, html, Input, Output\n",
        "from pyngrok import ngrok\n",
        "from google.colab import drive\n",
        "import threading"
      ]
    },
    {
      "cell_type": "code",
      "execution_count": 3,
      "metadata": {
        "colab": {
          "base_uri": "https://localhost:8080/"
        },
        "id": "JaK93O_qWIN4",
        "outputId": "0d1d2ca6-dcc0-427d-bce8-0e382de7779f"
      },
      "outputs": [
        {
          "name": "stdout",
          "output_type": "stream",
          "text": [
            "Mounted at /content/drive\n"
          ]
        }
      ],
      "source": [
        "# 3. Mount Google Drive\n",
        "drive.mount('/content/drive')"
      ]
    },
    {
      "cell_type": "code",
      "execution_count": 4,
      "metadata": {
        "id": "fHs619O_WKTZ"
      },
      "outputs": [],
      "source": [
        "# 4. Load datasets/DatasetUAS from Google Drive\n",
        "# Replace with your file paths in Google Drive\n",
        "humint = pd.read_csv('/content/drive/MyDrive/datasets/DatasetUAS/Reviews.csv')\n",
        "humint = humint[['Score', 'Text']].dropna()"
      ]
    },
    {
      "cell_type": "code",
      "execution_count": 5,
      "metadata": {
        "id": "917mQgvvXkzJ"
      },
      "outputs": [],
      "source": [
        "osint = pd.read_csv('/content/drive/MyDrive/datasets/DatasetUAS/training.1600000.processed.noemoticon.csv', encoding='latin-1', names=['polarity', 'id', 'date', 'query', 'user', 'text'])\n",
        "osint = osint[['text']]"
      ]
    },
    {
      "cell_type": "code",
      "execution_count": 6,
      "metadata": {
        "id": "tmiEfr7sXmVM"
      },
      "outputs": [],
      "source": [
        "sigint = pd.read_csv('/content/drive/MyDrive/datasets/DatasetUAS/spam.csv', encoding_errors='ignore')\n",
        "sigint = sigint[['v2']]"
      ]
    },
    {
      "cell_type": "code",
      "execution_count": 7,
      "metadata": {
        "id": "zQuW5Ad0WNOO"
      },
      "outputs": [],
      "source": [
        "# 5. Sentiment Analysis Function with VADER\n",
        "analyzer = SentimentIntensityAnalyzer()\n",
        "\n",
        "def classify_sentiment(text):\n",
        "    score = analyzer.polarity_scores(str(text))['compound']\n",
        "    if score >= 0.05:\n",
        "        return 'Positive'\n",
        "    elif score <= -0.05:\n",
        "        return 'Negative'\n",
        "    else:\n",
        "        return 'Neutral'"
      ]
    },
    {
      "cell_type": "code",
      "execution_count": 8,
      "metadata": {
        "id": "HZf7qZNhYGdS"
      },
      "outputs": [],
      "source": [
        "# Apply sentiment analysis\n",
        "humint['Sentiment'] = humint['Text'].apply(classify_sentiment)"
      ]
    },
    {
      "cell_type": "code",
      "execution_count": 9,
      "metadata": {
        "id": "GXQAGLaOYIhN"
      },
      "outputs": [],
      "source": [
        "osint['Sentiment'] = osint['text'].apply(classify_sentiment)"
      ]
    },
    {
      "cell_type": "code",
      "execution_count": 10,
      "metadata": {
        "id": "1JaljmcvYJ57"
      },
      "outputs": [],
      "source": [
        "sigint['Sentiment'] = sigint['v2'].apply(classify_sentiment)"
      ]
    },
    {
      "cell_type": "code",
      "execution_count": 11,
      "metadata": {
        "id": "di5c_CDXWTMg"
      },
      "outputs": [],
      "source": [
        "# 6. Summarize Data\n",
        "def summarize_data(df, source):\n",
        "    summary = df['Sentiment'].value_counts().reset_index()\n",
        "    summary.columns = ['Sentiment', 'Count']\n",
        "    summary['Source'] = source\n",
        "    return summary\n",
        "\n",
        "hum_summary = summarize_data(humint, 'HUMINT')\n",
        "osint_summary = summarize_data(osint, 'OSINT')\n",
        "sigint_summary = summarize_data(sigint, 'SIGINT')\n",
        "\n",
        "summary_df = pd.concat([hum_summary, osint_summary, sigint_summary])"
      ]
    },
    {
      "cell_type": "code",
      "execution_count": 12,
      "metadata": {
        "id": "LkZ1JToBWXMY"
      },
      "outputs": [],
      "source": [
        "# 7. Build Dashboard with Dash\n",
        "app = Dash(__name__)\n",
        "\n",
        "app.layout = html.Div([\n",
        "    html.H1('Sentiment Analysis Dashboard'),\n",
        "    dcc.Dropdown(\n",
        "        id='source-dropdown',\n",
        "        options=[\n",
        "            {'label': 'HUMINT', 'value': 'HUMINT'},\n",
        "            {'label': 'OSINT', 'value': 'OSINT'},\n",
        "            {'label': 'SIGINT', 'value': 'SIGINT'}\n",
        "        ],\n",
        "        value='HUMINT'\n",
        "    ),\n",
        "    dcc.Graph(id='sentiment-bar')\n",
        "])\n",
        "\n",
        "@app.callback(\n",
        "    Output('sentiment-bar', 'figure'),\n",
        "    Input('source-dropdown', 'value')\n",
        ")\n",
        "def update_graph(selected_source):\n",
        "    filtered_df = summary_df[summary_df['Source'] == selected_source]\n",
        "    fig = px.bar(filtered_df, x='Sentiment', y='Count', color='Sentiment',\n",
        "                 title=f'Sentiment Distribution for {selected_source}')\n",
        "    return fig"
      ]
    },
    {
      "cell_type": "code",
      "execution_count": 14,
      "metadata": {
        "colab": {
          "base_uri": "https://localhost:8080/",
          "height": 723
        },
        "id": "63xfjBn4V--y",
        "outputId": "3119b7b1-6b7d-4e90-b6fb-32e6a1e02d46"
      },
      "outputs": [
        {
          "name": "stdout",
          "output_type": "stream",
          "text": [
            "Dashboard running at: NgrokTunnel: \"https://c6e7-34-16-174-202.ngrok-free.app\" -> \"http://localhost:8050\"\n",
            "Waiting for the dashboard to start...\n"
          ]
        },
        {
          "data": {
            "application/javascript": "(async (port, path, width, height, cache, element) => {\n    if (!google.colab.kernel.accessAllowed && !cache) {\n      return;\n    }\n    element.appendChild(document.createTextNode(''));\n    const url = await google.colab.kernel.proxyPort(port, {cache});\n    const iframe = document.createElement('iframe');\n    iframe.src = new URL(path, url).toString();\n    iframe.height = height;\n    iframe.width = width;\n    iframe.style.border = 0;\n    iframe.allow = [\n        'accelerometer',\n        'autoplay',\n        'camera',\n        'clipboard-read',\n        'clipboard-write',\n        'gyroscope',\n        'magnetometer',\n        'microphone',\n        'serial',\n        'usb',\n        'xr-spatial-tracking',\n    ].join('; ');\n    element.appendChild(iframe);\n  })(8050, \"/\", \"100%\", 650, false, window.element)",
            "text/plain": [
              "<IPython.core.display.Javascript object>"
            ]
          },
          "metadata": {},
          "output_type": "display_data"
        },
        {
          "name": "stdout",
          "output_type": "stream",
          "text": [
            "Access your dashboard here: NgrokTunnel: \"https://c6e7-34-16-174-202.ngrok-free.app\" -> \"http://localhost:8050\"\n"
          ]
        }
      ],
      "source": [
        "# 8. Run Dashboard with Pyngrok\n",
        "# Replace this with your actual ngrok token\n",
        "ngrok.set_auth_token('NGROK_API_KEY')\n",
        "\n",
        "port = 8050\n",
        "public_url = ngrok.connect(port)\n",
        "print(f'Dashboard running at: {public_url}')\n",
        "\n",
        "# Run Dash app in separate thread\n",
        "def run_app():\n",
        "    app.run(host='0.0.0.0', port=port)\n",
        "\n",
        "thread = threading.Thread(target=run_app)\n",
        "thread.start()\n",
        "\n",
        "# Display the public URL\n",
        "import time\n",
        "print(\"Waiting for the dashboard to start...\")\n",
        "time.sleep(5)\n",
        "print(f'Access your dashboard here: {public_url}')"
      ]
    }
  ],
  "metadata": {
    "accelerator": "GPU",
    "colab": {
      "gpuType": "T4",
      "provenance": []
    },
    "kernelspec": {
      "display_name": "Python 3",
      "name": "python3"
    },
    "language_info": {
      "name": "python"
    }
  },
  "nbformat": 4,
  "nbformat_minor": 0
}
